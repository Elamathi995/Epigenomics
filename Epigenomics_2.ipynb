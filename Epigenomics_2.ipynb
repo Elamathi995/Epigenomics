{
  "nbformat": 4,
  "nbformat_minor": 0,
  "metadata": {
    "colab": {
      "provenance": [],
      "authorship_tag": "ABX9TyMGc7naOVs3wPLdFf0TdKTw"
    },
    "kernelspec": {
      "name": "python3",
      "display_name": "Python 3"
    },
    "language_info": {
      "name": "python"
    }
  },
  "cells": [
    {
      "cell_type": "code",
      "source": [
        "# Install required tools\n",
        "!pip install GEOparse pyBigWig matplotlib\n"
      ],
      "metadata": {
        "colab": {
          "base_uri": "https://localhost:8080/"
        },
        "id": "itg2y9l70262",
        "outputId": "df557f7d-dcba-4f05-cecc-ef20fd7f954e"
      },
      "execution_count": null,
      "outputs": [
        {
          "output_type": "stream",
          "name": "stdout",
          "text": [
            "Requirement already satisfied: GEOparse in /usr/local/lib/python3.12/dist-packages (2.0.4)\n",
            "Collecting pyBigWig\n",
            "  Downloading pyBigWig-0.3.24-cp312-cp312-manylinux_2_17_x86_64.manylinux2014_x86_64.whl.metadata (19 kB)\n",
            "Requirement already satisfied: matplotlib in /usr/local/lib/python3.12/dist-packages (3.10.0)\n",
            "Requirement already satisfied: numpy>=1.7 in /usr/local/lib/python3.12/dist-packages (from GEOparse) (2.0.2)\n",
            "Requirement already satisfied: pandas>=0.17 in /usr/local/lib/python3.12/dist-packages (from GEOparse) (2.2.2)\n",
            "Requirement already satisfied: requests>=2.21.0 in /usr/local/lib/python3.12/dist-packages (from GEOparse) (2.32.4)\n",
            "Requirement already satisfied: tqdm>=4.31.1 in /usr/local/lib/python3.12/dist-packages (from GEOparse) (4.67.1)\n",
            "Requirement already satisfied: contourpy>=1.0.1 in /usr/local/lib/python3.12/dist-packages (from matplotlib) (1.3.3)\n",
            "Requirement already satisfied: cycler>=0.10 in /usr/local/lib/python3.12/dist-packages (from matplotlib) (0.12.1)\n",
            "Requirement already satisfied: fonttools>=4.22.0 in /usr/local/lib/python3.12/dist-packages (from matplotlib) (4.59.2)\n",
            "Requirement already satisfied: kiwisolver>=1.3.1 in /usr/local/lib/python3.12/dist-packages (from matplotlib) (1.4.9)\n",
            "Requirement already satisfied: packaging>=20.0 in /usr/local/lib/python3.12/dist-packages (from matplotlib) (25.0)\n",
            "Requirement already satisfied: pillow>=8 in /usr/local/lib/python3.12/dist-packages (from matplotlib) (11.3.0)\n",
            "Requirement already satisfied: pyparsing>=2.3.1 in /usr/local/lib/python3.12/dist-packages (from matplotlib) (3.2.3)\n",
            "Requirement already satisfied: python-dateutil>=2.7 in /usr/local/lib/python3.12/dist-packages (from matplotlib) (2.9.0.post0)\n",
            "Requirement already satisfied: pytz>=2020.1 in /usr/local/lib/python3.12/dist-packages (from pandas>=0.17->GEOparse) (2025.2)\n",
            "Requirement already satisfied: tzdata>=2022.7 in /usr/local/lib/python3.12/dist-packages (from pandas>=0.17->GEOparse) (2025.2)\n",
            "Requirement already satisfied: six>=1.5 in /usr/local/lib/python3.12/dist-packages (from python-dateutil>=2.7->matplotlib) (1.17.0)\n",
            "Requirement already satisfied: charset_normalizer<4,>=2 in /usr/local/lib/python3.12/dist-packages (from requests>=2.21.0->GEOparse) (3.4.3)\n",
            "Requirement already satisfied: idna<4,>=2.5 in /usr/local/lib/python3.12/dist-packages (from requests>=2.21.0->GEOparse) (3.10)\n",
            "Requirement already satisfied: urllib3<3,>=1.21.1 in /usr/local/lib/python3.12/dist-packages (from requests>=2.21.0->GEOparse) (2.5.0)\n",
            "Requirement already satisfied: certifi>=2017.4.17 in /usr/local/lib/python3.12/dist-packages (from requests>=2.21.0->GEOparse) (2025.8.3)\n",
            "Downloading pyBigWig-0.3.24-cp312-cp312-manylinux_2_17_x86_64.manylinux2014_x86_64.whl (187 kB)\n",
            "\u001b[2K   \u001b[90m━━━━━━━━━━━━━━━━━━━━━━━━━━━━━━━━━━━━━━━━\u001b[0m \u001b[32m187.1/187.1 kB\u001b[0m \u001b[31m2.8 MB/s\u001b[0m eta \u001b[36m0:00:00\u001b[0m\n",
            "\u001b[?25hInstalling collected packages: pyBigWig\n",
            "Successfully installed pyBigWig-0.3.24\n"
          ]
        }
      ]
    },
    {
      "cell_type": "code",
      "source": [
        "import GEOparse\n",
        "\n",
        "# Example dataset: GSM468792 (IMR90 DNase-seq from Roadmap Epigenomics)\n",
        "gsm_id = \"GSM468792\"\n",
        "\n",
        "print(f\"Fetching {gsm_id} metadata from GEO...\")\n",
        "gsm = GEOparse.get_GEO(geo=gsm_id, destdir=\".\")\n",
        "\n",
        "# Print summary metadata\n",
        "print(\"\\nSample Metadata:\")\n",
        "for k, v in gsm.metadata.items():\n",
        "    print(k, \":\", v)\n"
      ],
      "metadata": {
        "colab": {
          "base_uri": "https://localhost:8080/"
        },
        "id": "x1-FYIYP055F",
        "outputId": "7b0d6ab2-a8b3-4ef9-e040-7fa44f3f7abd"
      },
      "execution_count": null,
      "outputs": [
        {
          "output_type": "stream",
          "name": "stderr",
          "text": [
            "15-Sep-2025 05:23:19 DEBUG utils - Directory . already exists. Skipping.\n",
            "DEBUG:GEOparse:Directory . already exists. Skipping.\n",
            "15-Sep-2025 05:23:19 INFO GEOparse - Downloading http://www.ncbi.nlm.nih.gov/geo/query/acc.cgi?targ=self&acc=GSM468792&form=text&view=full to ./GSM468792.txt\n",
            "INFO:GEOparse:Downloading http://www.ncbi.nlm.nih.gov/geo/query/acc.cgi?targ=self&acc=GSM468792&form=text&view=full to ./GSM468792.txt\n"
          ]
        },
        {
          "output_type": "stream",
          "name": "stdout",
          "text": [
            "Fetching GSM468792 metadata from GEO...\n"
          ]
        },
        {
          "output_type": "stream",
          "name": "stderr",
          "text": [
            "15-Sep-2025 05:23:19 DEBUG downloader - Total size: 0\n",
            "DEBUG:GEOparse:Total size: 0\n",
            "15-Sep-2025 05:23:19 DEBUG downloader - md5: None\n",
            "DEBUG:GEOparse:md5: None\n",
            "12.4kB [00:00, 19.1MB/s]\n",
            "15-Sep-2025 05:23:19 DEBUG downloader - Moving /tmp/tmpbwqfy4in to /content/GSM468792.txt\n",
            "DEBUG:GEOparse:Moving /tmp/tmpbwqfy4in to /content/GSM468792.txt\n",
            "15-Sep-2025 05:23:19 DEBUG downloader - Successfully downloaded http://www.ncbi.nlm.nih.gov/geo/query/acc.cgi?targ=self&acc=GSM468792&form=text&view=full\n",
            "DEBUG:GEOparse:Successfully downloaded http://www.ncbi.nlm.nih.gov/geo/query/acc.cgi?targ=self&acc=GSM468792&form=text&view=full\n",
            "15-Sep-2025 05:23:19 INFO GEOparse - Parsing ./GSM468792.txt: \n",
            "INFO:GEOparse:Parsing ./GSM468792.txt: \n"
          ]
        },
        {
          "output_type": "stream",
          "name": "stdout",
          "text": [
            "\n",
            "Sample Metadata:\n",
            "title : ['Chromatin accessibility assay of IMR90 Cell Line; DS11759']\n",
            "geo_accession : ['GSM468792']\n",
            "status : ['Public on Jan 06 2010']\n",
            "submission_date : ['Nov 06 2009']\n",
            "last_update_date : ['May 15 2019']\n",
            "type : ['SRA']\n",
            "channel_count : ['1']\n",
            "source_name_ch1 : ['IMR90 Cell Line; DS11759']\n",
            "organism_ch1 : ['Homo sapiens']\n",
            "taxid_ch1 : ['9606']\n",
            "characteristics_ch1 : ['molecule: genomic DNA', 'disease: None', 'biomaterial_provider: ATCC', 'biomaterial_type: Cell Line', 'line: IMR90', 'lineage: NA', 'differentiation_stage: Fetal lung fibroblast', 'differentiation_method: NA', 'passage: 4', \"medium: Eagle's Minimum Essential Medium, Catalog No. 30-2003.\", 'Sex: Female', 'batch: CCL-186', 'experiment_type: Chromatin Accessibility', 'extraction_protocol: Qiagen minElut', 'dnase_protocol: Stamlab DNase Protocol']\n",
            "molecule_ch1 : ['genomic DNA']\n",
            "extract_protocol_ch1 : ['Library construction protocol: Single read - Illumina']\n",
            "description : ['Design description: Chromatin accessibility determination via DNase-seq', 'Library name: DS11759', 'EDACC Genboree Sample Page:', 'http://genboree.org/java-bin/project.jsp?projectName=XML%20Submissions%2FUniversity%20of%20Washington%2FSAMPLE%2FEDACC.1632', 'EDACC Genboree Experiment Page:', 'http://genboree.org/java-bin/project.jsp?projectName=XML%20Submissions%2FUniversity%20of%20Washington%2FEXPERIMENT%2FEDACC.1633', '****************', 'For data usage terms and conditions, please refer to:', 'http://www.drugabuse.gov/funding/funding-opportunities/nih-common-fund/epigenomics-data-access-policies', '****************']\n",
            "data_processing : ['**********************************************************************', '', 'ANALYSIS FILE NAME: GSM468792_IMR90-DS11759.UWStam_090902_SOLEXA-1GA-1_0021_FC42KVW_2.bam', 'ANALYSIS ALIAS: UW.IMR90.ChromatinAccessibility.Level1.1', 'ANALYSIS TITLE: Mapping of IMR90 Chromatin Accessibility Data', 'ANALYSIS DESCRIPTION: Illumina reads produced by DNAse-Seq on the IMR90 cell line were mapped to the human genome (NCBI Build 36.1) using Pash.', 'ANALYSIS TYPE: REFERENCE_ALIGNMENT', 'EDACC Genboree Analysis Page: http://genboree.org/java-bin/project.jsp?projectName=XML%20Submissions%2FEDACC%2FANALYSIS%2FEDACC.1844', 'DATA_ANALYSIS_LEVEL: 1', 'EXPERIMENT_TYPE: Chromatin Accessibility', 'SOFTWARE: Pash', 'SOFTWARE_VERSION: 3.0', 'MAXIMUM_ALIGNMENT_LENGTH: Read length', 'MISMATCHES_ALLOWED: 10% of read length', 'ALIGNMENTS_ALLOWED: 1', 'TREATMENT_OF_MULTIPLE_ALIGNMENTS: If a read maps to more than 1 position it is removed from consideration.', 'TREATMENT_OF_IDENTICAL_ALIGNMENTS_OF_MULTIPLE_READS: None', 'ALIGNMENT_POSTPROCESSING: None', '', '**********************************************************************', '', 'ANALYSIS FILE NAME: GSM468792_IMR90-DS11759.UWStam_090921_SOLEXA-1GA-1_0028_FC42YD0_4.bam', 'ANALYSIS ALIAS: UW.IMR90.ChromatinAccessibility.Level1.2', 'ANALYSIS TITLE: Mapping of IMR90 Chromatin Accessibility Data', 'ANALYSIS DESCRIPTION: Illumina reads produced by DNAse-Seq on the IMR90 cell line were mapped to the human genome (NCBI Build 36.1) using Pash.', 'ANALYSIS TYPE: REFERENCE_ALIGNMENT', 'EDACC Genboree Analysis Page: http://genboree.org/java-bin/project.jsp?projectName=XML%20Submissions%2FEDACC%2FANALYSIS%2FEDACC.1846', 'DATA_ANALYSIS_LEVEL: 1', 'EXPERIMENT_TYPE: Chromatin Accessibility', 'SOFTWARE: Pash', 'SOFTWARE_VERSION: 3.0', 'MAXIMUM_ALIGNMENT_LENGTH: Read length', 'MISMATCHES_ALLOWED: 10% of read length', 'ALIGNMENTS_ALLOWED: 1', 'TREATMENT_OF_MULTIPLE_ALIGNMENTS: If a read maps to more than 1 position it is removed from consideration.', 'TREATMENT_OF_IDENTICAL_ALIGNMENTS_OF_MULTIPLE_READS: None', 'ALIGNMENT_POSTPROCESSING: None', '', '**********************************************************************', '', 'ANALYSIS FILE NAME: GSM468792_UW.IMR90.rep1.ChromatinAccessibility.IMR90-DS11759.wig', 'ANALYSIS ALIAS: UW.IMR90.ChromatinAccessibility.Level2.combined.1', 'ANALYSIS TITLE: Raw Signal Density Graphs of IMR90 Chromatin Accessibility Replicate 1 Data', 'ANALYSIS DESCRIPTION: Illumina DNAse-Seq read mappings from the IMR90 cell line were processed into density graphs of raw signal representing the aligned read density.', 'ANALYSIS TYPE: ABUNDANCE_MEASUREMENT', 'EDACC Genboree Analysis Page: http://genboree.org/java-bin/project.jsp?projectName=XML%20Submissions%2FEDACC%2FANALYSIS%2FEDACC.1857', 'DATA_ANALYSIS_LEVEL: 2', 'EXPERIMENT_TYPE: Chromatin Accessibility', 'SOFTWARE: In house programs and scripts', 'SOFTWARE_VERSION: NA', 'READ_EXTENSION: 200bp', 'GENOMIC_WINDOW: 20bp', 'TREATMENT_OF_REGIONS_PRONE_TO_MULTIPLE_ALIGNMENTS: None', '', '**********************************************************************', '', 'ANALYSIS FILE NAME: GSM468792_UW.IMR90.ChromatinAccessibility.DS11759.bed', 'ANALYSIS ALIAS: DS11759.hg19.level.1', 'ANALYSIS TITLE: Mapping of IMR90 Cell Line Chromatin Accessibility Data', 'ANALYSIS DESCRIPTION: Illumina reads produced by DNAse-Seq on the IMR90 Cell Line, Library DS11759 were mapped to the human genome using Pash.', 'ANALYSIS TYPE: REFERENCE_ALIGNMENT', 'EDACC Genboree Analysis Page: http://genboree.org/java-bin/project.jsp?projectName=XML%20Submissions%2FEDACC%2FANALYSIS%2FEDACC.4126', 'DATA_ANALYSIS_LEVEL: 1', 'EXPERIMENT_TYPE: Chromatin Accessibility', 'GENOME_ASSEMBLY: NCBI Build GRCh37/UCSC Build hg19', 'SOFTWARE: Pash', 'SOFTWARE_VERSION: 3.0', 'MAXIMUM_ALIGNMENT_LENGTH: Read length', 'MISMATCHES_ALLOWED: 10% of read length', 'ALIGNMENTS_ALLOWED: 1', 'TREATMENT_OF_MULTIPLE_ALIGNMENTS: If a read maps to more than 1 position it is removed from consideration.', 'TREATMENT_OF_IDENTICAL_ALIGNMENTS_OF_MULTIPLE_READS: None', 'ALIGNMENT_POSTPROCESSING: None', 'RELEASE_NUMBER: Human Epigenome Atlas 2', '', '', 'QUALITY SCORES:', 'NUMBER_OF_CHROMATIN_ACCESSIBILITY_EXPERIMENTS_SCORED: 40', 'FINDPEAKS_SCORE: 0.3846', 'FINDPEAKS_PERCENTILE: 5', 'HOTSPOT_SCORE: 0.2914', 'HOTSPOT_PERCENTILE: 5', 'IROC_SCORE: 0.9966', 'IROC_PERCENTILE: 37', 'POISSON_SCORE: 0.3873', 'POISSON_PERCENTILE: 10', '', '**********************************************************************', '', 'ANALYSIS FILE NAME: GSM468792_UW.IMR90.ChromatinAccessibility.DS11759.wig', 'ANALYSIS ALIAS: DS11759.hg19.level.2', 'ANALYSIS TITLE: Raw Signal Density Graphs of IMR90 Cell Line Chromatin Accessibility Data', 'ANALYSIS DESCRIPTION: Illumina DNAse-Seq read mappings from the IMR90 Cell Line, Library DS11759 were processed into density graphs of raw signal representing the aligned read density.', 'ANALYSIS TYPE: ABUNDANCE_MEASUREMENT', 'EDACC Genboree Analysis Page: http://genboree.org/java-bin/project.jsp?projectName=XML%20Submissions%2FEDACC%2FANALYSIS%2FEDACC.4086', 'DATA_ANALYSIS_LEVEL: 2', 'EXPERIMENT_TYPE: Chromatin Accessibility', 'GENOME_ASSEMBLY: NCBI Build GRCh37/UCSC Build hg19', 'SOFTWARE: In house programs and scripts', 'SOFTWARE_VERSION: NA', 'READ_EXTENSION: 0bp', 'GENOMIC_WINDOW: 150bp', 'TREATMENT_OF_REGIONS_PRONE_TO_MULTIPLE_ALIGNMENTS: None', 'RELEASE_NUMBER: Human Epigenome Atlas 2', 'BROWSER_TRACK_NAME: IMR90 DNase 59 59', 'BROWSER_TRACK_DESCRIPTION: UW IMR90 Cell Line DNase Hypersensitivity Library DS11759 EA Release 2', '', '', 'QUALITY SCORES:', 'NUMBER_OF_CHROMATIN_ACCESSIBILITY_EXPERIMENTS_SCORED: 40', 'FINDPEAKS_SCORE: 0.3846', 'FINDPEAKS_PERCENTILE: 5', 'HOTSPOT_SCORE: 0.2914', 'HOTSPOT_PERCENTILE: 5', 'IROC_SCORE: 0.9966', 'IROC_PERCENTILE: 37', 'POISSON_SCORE: 0.3873', 'POISSON_PERCENTILE: 10']\n",
            "platform_id : ['GPL9115']\n",
            "contact_name : ['Northwest,,REMC']\n",
            "contact_email : ['rharris1@bcm.tmc.edu']\n",
            "contact_institute : ['University of Washington']\n",
            "contact_address : ['-']\n",
            "contact_city : ['Seattle']\n",
            "contact_state : ['WA']\n",
            "contact_zip/postal_code : ['98195']\n",
            "contact_country : ['USA']\n",
            "instrument_model : ['Illumina Genome Analyzer II']\n",
            "library_selection : ['DNAse']\n",
            "library_source : ['genomic']\n",
            "library_strategy : ['DNase-Hypersensitivity']\n",
            "relation : ['SRA: https://www.ncbi.nlm.nih.gov/sra?term=SRX012425', 'BioSample: https://www.ncbi.nlm.nih.gov/biosample/SAMN00004755', 'Named Annotation: NA000020972.1 (GSM468792_UW.IMR90.rep1.ChromatinAccessibility.IMR90-DS11759.wig.gz)', 'Named Annotation: NA000020971.1 (GSM468792_UW.IMR90.ChromatinAccessibility.DS11759.wig.gz)']\n",
            "supplementary_file_1 : ['ftp://ftp.ncbi.nlm.nih.gov/geo/samples/GSM468nnn/GSM468792/suppl/GSM468792_IMR90-DS11759.UWStam_090902_SOLEXA-1GA-1_0021_FC42KVW_2.bam']\n",
            "supplementary_file_2 : ['ftp://ftp.ncbi.nlm.nih.gov/geo/samples/GSM468nnn/GSM468792/suppl/GSM468792_IMR90-DS11759.UWStam_090921_SOLEXA-1GA-1_0028_FC42YD0_4.bam']\n",
            "supplementary_file_3 : ['ftp://ftp.ncbi.nlm.nih.gov/geo/samples/GSM468nnn/GSM468792/suppl/GSM468792_UW.IMR90.ChromatinAccessibility.DS11759.bed.gz']\n",
            "supplementary_file_4 : ['ftp://ftp.ncbi.nlm.nih.gov/geo/samples/GSM468nnn/GSM468792/suppl/GSM468792_UW.IMR90.ChromatinAccessibility.DS11759.wig.gz']\n",
            "supplementary_file_5 : ['ftp://ftp.ncbi.nlm.nih.gov/geo/samples/GSM468nnn/GSM468792/suppl/GSM468792_UW.IMR90.rep1.ChromatinAccessibility.IMR90-DS11759.wig.gz']\n",
            "series_id : ['GSE18927']\n",
            "data_row_count : ['0']\n"
          ]
        }
      ]
    },
    {
      "cell_type": "code",
      "source": [
        "# Install tools\n",
        "!apt-get install -y samtools bedtools\n",
        "!pip install pyBigWig matplotlib pandas\n"
      ],
      "metadata": {
        "colab": {
          "base_uri": "https://localhost:8080/"
        },
        "id": "cpzV8fWd1SiT",
        "outputId": "342a6be3-e459-443a-87a1-9e5ff592f24f"
      },
      "execution_count": null,
      "outputs": [
        {
          "output_type": "stream",
          "name": "stdout",
          "text": [
            "Reading package lists... Done\n",
            "Building dependency tree... Done\n",
            "Reading state information... Done\n",
            "The following additional packages will be installed:\n",
            "  libhts3 libhtscodecs2\n",
            "Suggested packages:\n",
            "  cwltool\n",
            "The following NEW packages will be installed:\n",
            "  bedtools libhts3 libhtscodecs2 samtools\n",
            "0 upgraded, 4 newly installed, 0 to remove and 35 not upgraded.\n",
            "Need to get 1,525 kB of archives.\n",
            "After this operation, 3,818 kB of additional disk space will be used.\n",
            "Get:1 http://archive.ubuntu.com/ubuntu jammy-updates/universe amd64 bedtools amd64 2.30.0+dfsg-2ubuntu0.1 [563 kB]\n",
            "Get:2 http://archive.ubuntu.com/ubuntu jammy/universe amd64 libhtscodecs2 amd64 1.1.1-3 [53.2 kB]\n",
            "Get:3 http://archive.ubuntu.com/ubuntu jammy/universe amd64 libhts3 amd64 1.13+ds-2build1 [390 kB]\n",
            "Get:4 http://archive.ubuntu.com/ubuntu jammy/universe amd64 samtools amd64 1.13-4 [520 kB]\n",
            "Fetched 1,525 kB in 1s (1,362 kB/s)\n",
            "Selecting previously unselected package bedtools.\n",
            "(Reading database ... 126374 files and directories currently installed.)\n",
            "Preparing to unpack .../bedtools_2.30.0+dfsg-2ubuntu0.1_amd64.deb ...\n",
            "Unpacking bedtools (2.30.0+dfsg-2ubuntu0.1) ...\n",
            "Selecting previously unselected package libhtscodecs2:amd64.\n",
            "Preparing to unpack .../libhtscodecs2_1.1.1-3_amd64.deb ...\n",
            "Unpacking libhtscodecs2:amd64 (1.1.1-3) ...\n",
            "Selecting previously unselected package libhts3:amd64.\n",
            "Preparing to unpack .../libhts3_1.13+ds-2build1_amd64.deb ...\n",
            "Unpacking libhts3:amd64 (1.13+ds-2build1) ...\n",
            "Selecting previously unselected package samtools.\n",
            "Preparing to unpack .../samtools_1.13-4_amd64.deb ...\n",
            "Unpacking samtools (1.13-4) ...\n",
            "Setting up libhtscodecs2:amd64 (1.1.1-3) ...\n",
            "Setting up libhts3:amd64 (1.13+ds-2build1) ...\n",
            "Setting up samtools (1.13-4) ...\n",
            "Setting up bedtools (2.30.0+dfsg-2ubuntu0.1) ...\n",
            "Processing triggers for man-db (2.10.2-1) ...\n",
            "Processing triggers for libc-bin (2.35-0ubuntu3.8) ...\n",
            "/sbin/ldconfig.real: /usr/local/lib/libur_loader.so.0 is not a symbolic link\n",
            "\n",
            "/sbin/ldconfig.real: /usr/local/lib/libur_adapter_opencl.so.0 is not a symbolic link\n",
            "\n",
            "/sbin/ldconfig.real: /usr/local/lib/libtcm.so.1 is not a symbolic link\n",
            "\n",
            "/sbin/ldconfig.real: /usr/local/lib/libur_adapter_level_zero.so.0 is not a symbolic link\n",
            "\n",
            "/sbin/ldconfig.real: /usr/local/lib/libumf.so.0 is not a symbolic link\n",
            "\n",
            "/sbin/ldconfig.real: /usr/local/lib/libtcm_debug.so.1 is not a symbolic link\n",
            "\n",
            "/sbin/ldconfig.real: /usr/local/lib/libtbbbind_2_0.so.3 is not a symbolic link\n",
            "\n",
            "/sbin/ldconfig.real: /usr/local/lib/libur_adapter_level_zero_v2.so.0 is not a symbolic link\n",
            "\n",
            "/sbin/ldconfig.real: /usr/local/lib/libtbbmalloc.so.2 is not a symbolic link\n",
            "\n",
            "/sbin/ldconfig.real: /usr/local/lib/libtbbbind.so.3 is not a symbolic link\n",
            "\n",
            "/sbin/ldconfig.real: /usr/local/lib/libtbb.so.12 is not a symbolic link\n",
            "\n",
            "/sbin/ldconfig.real: /usr/local/lib/libtbbmalloc_proxy.so.2 is not a symbolic link\n",
            "\n",
            "/sbin/ldconfig.real: /usr/local/lib/libtbbbind_2_5.so.3 is not a symbolic link\n",
            "\n",
            "/sbin/ldconfig.real: /usr/local/lib/libhwloc.so.15 is not a symbolic link\n",
            "\n",
            "Requirement already satisfied: pyBigWig in /usr/local/lib/python3.12/dist-packages (0.3.24)\n",
            "Requirement already satisfied: matplotlib in /usr/local/lib/python3.12/dist-packages (3.10.0)\n",
            "Requirement already satisfied: pandas in /usr/local/lib/python3.12/dist-packages (2.2.2)\n",
            "Requirement already satisfied: contourpy>=1.0.1 in /usr/local/lib/python3.12/dist-packages (from matplotlib) (1.3.3)\n",
            "Requirement already satisfied: cycler>=0.10 in /usr/local/lib/python3.12/dist-packages (from matplotlib) (0.12.1)\n",
            "Requirement already satisfied: fonttools>=4.22.0 in /usr/local/lib/python3.12/dist-packages (from matplotlib) (4.59.2)\n",
            "Requirement already satisfied: kiwisolver>=1.3.1 in /usr/local/lib/python3.12/dist-packages (from matplotlib) (1.4.9)\n",
            "Requirement already satisfied: numpy>=1.23 in /usr/local/lib/python3.12/dist-packages (from matplotlib) (2.0.2)\n",
            "Requirement already satisfied: packaging>=20.0 in /usr/local/lib/python3.12/dist-packages (from matplotlib) (25.0)\n",
            "Requirement already satisfied: pillow>=8 in /usr/local/lib/python3.12/dist-packages (from matplotlib) (11.3.0)\n",
            "Requirement already satisfied: pyparsing>=2.3.1 in /usr/local/lib/python3.12/dist-packages (from matplotlib) (3.2.3)\n",
            "Requirement already satisfied: python-dateutil>=2.7 in /usr/local/lib/python3.12/dist-packages (from matplotlib) (2.9.0.post0)\n",
            "Requirement already satisfied: pytz>=2020.1 in /usr/local/lib/python3.12/dist-packages (from pandas) (2025.2)\n",
            "Requirement already satisfied: tzdata>=2022.7 in /usr/local/lib/python3.12/dist-packages (from pandas) (2025.2)\n",
            "Requirement already satisfied: six>=1.5 in /usr/local/lib/python3.12/dist-packages (from python-dateutil>=2.7->matplotlib) (1.17.0)\n"
          ]
        }
      ]
    },
    {
      "cell_type": "code",
      "source": [
        "# Example: Download BED file (peaks of DNase hypersensitivity)\n",
        "!wget -O IMR90_DNase.bed.gz ftp://ftp.ncbi.nlm.nih.gov/geo/samples/GSM468nnn/GSM468792/suppl/GSM468792_UW.IMR90.ChromatinAccessibility.DS11759.bed.gz\n",
        "!gunzip IMR90_DNase.bed.gz\n",
        "!head IMR90_DNase.bed\n"
      ],
      "metadata": {
        "colab": {
          "base_uri": "https://localhost:8080/"
        },
        "id": "4JxLJnix1ahC",
        "outputId": "05db2c92-db0e-45bb-f5f9-532895e6d39e"
      },
      "execution_count": null,
      "outputs": [
        {
          "output_type": "stream",
          "name": "stdout",
          "text": [
            "--2025-09-15 05:26:20--  ftp://ftp.ncbi.nlm.nih.gov/geo/samples/GSM468nnn/GSM468792/suppl/GSM468792_UW.IMR90.ChromatinAccessibility.DS11759.bed.gz\n",
            "           => ‘IMR90_DNase.bed.gz’\n",
            "Resolving ftp.ncbi.nlm.nih.gov (ftp.ncbi.nlm.nih.gov)... 130.14.250.10, 130.14.250.11, 130.14.250.12, ...\n",
            "Connecting to ftp.ncbi.nlm.nih.gov (ftp.ncbi.nlm.nih.gov)|130.14.250.10|:21... connected.\n",
            "Logging in as anonymous ... Logged in!\n",
            "==> SYST ... done.    ==> PWD ... done.\n",
            "==> TYPE I ... done.  ==> CWD (1) /geo/samples/GSM468nnn/GSM468792/suppl ... done.\n",
            "==> SIZE GSM468792_UW.IMR90.ChromatinAccessibility.DS11759.bed.gz ... 429347725\n",
            "==> PASV ... done.    ==> RETR GSM468792_UW.IMR90.ChromatinAccessibility.DS11759.bed.gz ... done.\n",
            "Length: 429347725 (409M) (unauthoritative)\n",
            "\n",
            "GSM468792_UW.IMR90. 100%[===================>] 409.46M  52.3MB/s    in 6.4s    \n",
            "\n",
            "2025-09-15 05:26:27 (64.0 MB/s) - ‘IMR90_DNase.bed.gz’ saved [429347725]\n",
            "\n",
            "chr1\t9969\t9997\tSOLEXA-1GA-1_1:2:54:1275:2036\t-\n",
            "chr1\t9970\t10004\tSOLEXA-1GA-1_1:4:44:1119:2040\t-\n",
            "chr1\t9970\t9996\tSOLEXA-1GA-1_1:2:43:1251:2036\t-\n",
            "chr1\t9970\t9997\tSOLEXA-1GA-1_1:4:40:1305:2038\t-\n",
            "chr1\t9971\t9996\tSOLEXA-1GA-1_1:2:34:1168:2037\t-\n",
            "chr1\t9971\t9996\tSOLEXA-1GA-1_1:4:50:635:2040\t-\n",
            "chr1\t9971\t9996\tSOLEXA-1GA-1_1:4:52:114:2041\t-\n",
            "chr1\t9971\t9997\tSOLEXA-1GA-1_1:2:32:1619:2038\t-\n",
            "chr1\t9971\t9997\tSOLEXA-1GA-1_1:2:34:1474:2039\t-\n",
            "chr1\t9971\t9997\tSOLEXA-1GA-1_1:2:38:48:2039\t-\n"
          ]
        }
      ]
    },
    {
      "cell_type": "code",
      "source": [
        "import pandas as pd\n",
        "import matplotlib.pyplot as plt\n",
        "\n",
        "# Load BED file\n",
        "cols = [\"chrom\", \"start\", \"end\"]\n",
        "bed_df = pd.read_csv(\"IMR90_DNase.bed\", sep=\"\\t\", names=cols, usecols=[0,1,2])\n",
        "\n",
        "# Compute peak length\n",
        "bed_df[\"length\"] = bed_df[\"end\"] - bed_df[\"start\"]\n",
        "\n",
        "# Summary statistics\n",
        "print(bed_df.describe())\n",
        "\n",
        "# Plot peak length distribution\n",
        "plt.figure(figsize=(8,5))\n",
        "plt.hist(bed_df[\"length\"], bins=100, color=\"skyblue\", edgecolor=\"black\")\n",
        "plt.xlabel(\"Peak Length (bp)\")\n",
        "plt.ylabel(\"Frequency\")\n",
        "plt.title(\"IMR90 DNase-seq Peak Length Distribution\")\n",
        "plt.show()\n"
      ],
      "metadata": {
        "colab": {
          "base_uri": "https://localhost:8080/",
          "height": 653
        },
        "id": "g7eIsvYp16u9",
        "outputId": "ee4a4a4f-4add-472a-d76a-f1e43ecd3d13"
      },
      "execution_count": null,
      "outputs": [
        {
          "output_type": "stream",
          "name": "stdout",
          "text": [
            "              start           end        length\n",
            "count  3.418377e+07  3.418377e+07  3.418377e+07\n",
            "mean   7.176044e+07  7.176048e+07  3.426783e+01\n",
            "std    5.832277e+07  5.832277e+07  2.087434e+00\n",
            "min    1.000000e+00  2.600000e+01  2.000000e+01\n",
            "25%    2.393810e+07  2.393813e+07  3.500000e+01\n",
            "50%    6.056326e+07  6.056329e+07  3.500000e+01\n",
            "75%    1.107903e+08  1.107903e+08  3.500000e+01\n",
            "max    2.492406e+08  2.492406e+08  3.700000e+01\n"
          ]
        },
        {
          "output_type": "display_data",
          "data": {
            "text/plain": [
              "<Figure size 800x500 with 1 Axes>"
            ],
            "image/png": "[encoded data removed]"
          },
          "metadata": {}
        }
      ]
    }
  ]
}